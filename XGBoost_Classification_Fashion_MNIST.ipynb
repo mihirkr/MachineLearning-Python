{
  "nbformat": 4,
  "nbformat_minor": 0,
  "metadata": {
    "colab": {
      "name": "XGBoost Classification - Fashion MNIST.ipynb",
      "version": "0.3.2",
      "provenance": []
    },
    "kernelspec": {
      "name": "python3",
      "display_name": "Python 3"
    },
    "accelerator": "GPU"
  },
  "cells": [
    {
      "cell_type": "markdown",
      "metadata": {
        "id": "-2wtsLr290Jm",
        "colab_type": "text"
      },
      "source": [
        "**Import MNIST Fashion dataset**"
      ]
    },
    {
      "cell_type": "code",
      "metadata": {
        "id": "6CwbVpxa0VhH",
        "colab_type": "code",
        "colab": {}
      },
      "source": [
        "!pip install -U -q kaggle\n",
        "!mkdir -p ~/.kaggle"
      ],
      "execution_count": 0,
      "outputs": []
    },
    {
      "cell_type": "code",
      "metadata": {
        "id": "eW0OiDGc98kc",
        "colab_type": "code",
        "colab": {}
      },
      "source": [
        "# Use your kaggle API key here to download the dataset\n",
        "from google.colab import files\n",
        "files.upload()"
      ],
      "execution_count": 0,
      "outputs": []
    },
    {
      "cell_type": "code",
      "metadata": {
        "id": "q9ZVJTS9-Ats",
        "colab_type": "code",
        "colab": {}
      },
      "source": [
        "!cp kaggle.json ~/.kaggle/"
      ],
      "execution_count": 0,
      "outputs": []
    },
    {
      "cell_type": "code",
      "metadata": {
        "id": "0Y6bv81i-E3_",
        "colab_type": "code",
        "colab": {}
      },
      "source": [
        "!kaggle datasets download -d zalando-research/fashionmnist\n",
        "!ls"
      ],
      "execution_count": 0,
      "outputs": []
    },
    {
      "cell_type": "code",
      "metadata": {
        "id": "zxzDHLo6-OmP",
        "colab_type": "code",
        "outputId": "6ed95284-f29d-483f-8dec-fdfe020a27ed",
        "colab": {
          "base_uri": "https://localhost:8080/",
          "height": 136
        }
      },
      "source": [
        "!unzip fashionmnist.zip"
      ],
      "execution_count": 6,
      "outputs": [
        {
          "output_type": "stream",
          "text": [
            "Archive:  fashionmnist.zip\n",
            "  inflating: t10k-images-idx3-ubyte  \n",
            "  inflating: fashion-mnist_test.csv  \n",
            "  inflating: train-labels-idx1-ubyte  \n",
            "  inflating: train-images-idx3-ubyte  \n",
            "  inflating: fashion-mnist_train.csv  \n",
            "  inflating: t10k-labels-idx1-ubyte  \n"
          ],
          "name": "stdout"
        }
      ]
    },
    {
      "cell_type": "code",
      "metadata": {
        "id": "JV4Pf-Nb-blo",
        "colab_type": "code",
        "colab": {}
      },
      "source": [
        "import pandas as pd\n",
        "\n",
        "df_train = pd.read_csv('fashion-mnist_train.csv')\n",
        "target_train = df_train.pop('label')\n",
        "features_train = df_train\n",
        "\n",
        "df_test = pd.read_csv('fashion-mnist_test.csv')\n",
        "target_test = df_test.pop('label')\n",
        "features_test = df_test"
      ],
      "execution_count": 0,
      "outputs": []
    },
    {
      "cell_type": "code",
      "metadata": {
        "id": "yovaljcO0i1z",
        "colab_type": "code",
        "outputId": "4b50e818-ec54-4ef1-bf00-4eec9059efeb",
        "colab": {
          "base_uri": "https://localhost:8080/",
          "height": 547
        }
      },
      "source": [
        "# View the first image\n",
        "import numpy as np\n",
        "import matplotlib.pyplot as plt\n",
        "\n",
        "first_image = features_train.iloc[0]\n",
        "first_image = np.array(first_image, dtype = \"float\")\n",
        "pixels = first_image.reshape((28, 28))\n",
        "plt.imshow(pixels, cmap = \"gray_r\")\n",
        "plt.axis(\"off\")\n",
        "plt.show()\n",
        "print (\"Label:\", target_train.iloc[0])\n",
        "\n",
        "# View last image \n",
        "last_image = features_train.iloc[-1]\n",
        "last_image = np.array(last_image, dtype = \"float\")\n",
        "pixels = last_image.reshape((28, 28))\n",
        "plt.imshow(pixels, cmap = \"gray_r\")\n",
        "plt.axis(\"off\")\n",
        "plt.show()\n",
        "print (\"Label:\", target_train.iloc[-1])"
      ],
      "execution_count": 8,
      "outputs": [
        {
          "output_type": "display_data",
          "data": {
            "image/png": "[encoded data removed]",
            "text/plain": [
              "<Figure size 432x288 with 1 Axes>"
            ]
          },
          "metadata": {
            "tags": []
          }
        },
        {
          "output_type": "stream",
          "text": [
            "Label: 2\n"
          ],
          "name": "stdout"
        },
        {
          "output_type": "display_data",
          "data": {
            "image/png": "[encoded data removed]",
            "text/plain": [
              "<Figure size 432x288 with 1 Axes>"
            ]
          },
          "metadata": {
            "tags": []
          }
        },
        {
          "output_type": "stream",
          "text": [
            "Label: 7\n"
          ],
          "name": "stdout"
        }
      ]
    },
    {
      "cell_type": "code",
      "metadata": {
        "id": "tIre4bmb086t",
        "colab_type": "code",
        "colab": {}
      },
      "source": [
        "# Use sklearn StandardScaler to scale pixel values\n",
        "from sklearn.preprocessing import StandardScaler\n",
        "# Create scale object\n",
        "scaler = StandardScaler()\n",
        "# Fit scaler to training data only\n",
        "scaler_fit = scaler.fit(features_train)\n",
        "# Transform both train and test data with the trained scaler\n",
        "X_train = scaler_fit.transform(features_train)\n",
        "X_test = scaler_fit.transform(features_test)"
      ],
      "execution_count": 0,
      "outputs": []
    },
    {
      "cell_type": "markdown",
      "metadata": {
        "id": "qHdW4L2a4vST",
        "colab_type": "text"
      },
      "source": [
        "**Baseline model**"
      ]
    },
    {
      "cell_type": "code",
      "metadata": {
        "id": "H7v-liZh1diQ",
        "colab_type": "code",
        "outputId": "2f6640de-5837-484f-a1bc-c8043a52caae",
        "colab": {
          "base_uri": "https://localhost:8080/",
          "height": 68
        }
      },
      "source": [
        "import xgboost as xgb\n",
        "from sklearn.metrics import f1_score, accuracy_score\n",
        "\n",
        "# Create XGB Classifier object\n",
        "xgb_clf = xgb.XGBClassifier(objective = \"multi:softmax\")\n",
        "# Fit model\n",
        "xgb_model = xgb_clf.fit(X_train, target_train)\n",
        "# Predictions\n",
        "y_train_preds = xgb_model.predict(X_train)\n",
        "y_test_preds = xgb_model.predict(X_test)\n",
        "# Print F1 scores and Accuracy\n",
        "print(\"Training F1 Micro Average: \", f1_score(target_train, y_train_preds, average = \"micro\"))\n",
        "print(\"Test F1 Micro Average: \", f1_score(target_test, y_test_preds, average = \"micro\"))\n",
        "print(\"Test Accuracy: \", accuracy_score(target_test, y_test_preds))"
      ],
      "execution_count": 11,
      "outputs": [
        {
          "output_type": "stream",
          "text": [
            "Training F1 Micro Average:  0.8788333333333334\n",
            "Test F1 Micro Average:  0.8674\n",
            "Test Accuracy:  0.8674\n"
          ],
          "name": "stdout"
        }
      ]
    },
    {
      "cell_type": "markdown",
      "metadata": {
        "id": "egsQDm7f5SmW",
        "colab_type": "text"
      },
      "source": [
        "**Hyperparameter Tuning**"
      ]
    },
    {
      "cell_type": "code",
      "metadata": {
        "id": "EEcQx_RWYwgE",
        "colab_type": "code",
        "colab": {}
      },
      "source": [
        "from sklearn.model_selection import RandomizedSearchCV\n",
        "import xgboost as xgb\n",
        "\n",
        "# Create XGB Classifier object\n",
        "xgb_clf = xgb.XGBClassifier(tree_method = \"gpu_exact\", predictor = \"gpu_predictor\", silent = True,\n",
        "                           eval_metric = [\"merror\", \"map\", \"auc\"], objective = \"multi:softmax\")\n",
        "# Create parameter grid\n",
        "parameters = {\"learning_rate\": [0.1, 0.01, 0.001],\n",
        "               \"gamma\" : [0.01, 0.1, 0.3, 0.5, 1, 1.5, 2],\n",
        "               \"max_depth\": [2, 4, 7, 10],\n",
        "               \"colsample_bytree\": [0.3, 0.6, 0.8, 1.0],\n",
        "               \"subsample\": [0.2, 0.4, 0.5, 0.6, 0.7],\n",
        "               \"reg_alpha\": [0, 0.5, 1],\n",
        "               \"reg_lambda\": [1, 1.5, 2, 3, 4.5],\n",
        "               \"min_child_weight\": [1, 3, 5, 7],\n",
        "               \"n_estimators\": [100, 250, 500, 1000]}\n",
        "\n",
        "# Create RandomizedSearchCV Object\n",
        "xgb_rscv = RandomizedSearchCV(xgb_clf, param_distributions = parameters, scoring = \"f1_micro\",\n",
        "                             cv = 7, verbose = 3, random_state = 40)\n",
        "\n",
        "# Fit the model\n",
        "model_xgboost = xgb_rscv.fit(X_train, target_train)"
      ],
      "execution_count": 0,
      "outputs": []
    },
    {
      "cell_type": "markdown",
      "metadata": {
        "id": "sjJpxG3m_4oa",
        "colab_type": "text"
      },
      "source": [
        "**Grid Search for hyperparameter Tuning**"
      ]
    },
    {
      "cell_type": "code",
      "metadata": {
        "id": "qNpNOvP0_-T_",
        "colab_type": "code",
        "colab": {}
      },
      "source": [
        "# Create XGB Classifier object\n",
        "xgb_clf = xgb.XGBClassifier(tree_method = \"exact\", predictor = \"cpu_predictor\", verbosity = True,\n",
        "                            objective = \"multi:softmax\")\n",
        "\n",
        "# Create parameter grid\n",
        "parameters = {\"learning_rate\": [0.1, 0.01, 0.001],\n",
        "               \"gamma\" : [0.01, 0.1, 0.3, 0.5, 1, 1.5, 2],\n",
        "               \"max_depth\": [2, 4, 7, 10],\n",
        "               \"colsample_bytree\": [0.3, 0.6, 0.8, 1.0],\n",
        "               \"subsample\": [0.2, 0.4, 0.5, 0.6, 0.7],\n",
        "               \"reg_alpha\": [0, 0.5, 1],\n",
        "               \"reg_lambda\": [1, 1.5, 2, 3, 4.5],\n",
        "               \"min_child_weight\": [1, 3, 5, 7],\n",
        "               \"n_estimators\": [100, 250, 500, 1000]}\n",
        "\n",
        "from sklearn.model_selection import RandomizedSearchCV\n",
        "# Create RandomizedSearchCV Object\n",
        "xgb_rscv = RandomizedSearchCV(xgb_clf, param_distributions = parameters, scoring = \"f1_micro\",\n",
        "                             cv = 10, verbose = 3, random_state = 40 )\n",
        "\n",
        "# Fit the model\n",
        "model_xgboost = xgb_rscv.fit(X_train, target_train)\n",
        "\n",
        "# Model best estimators\n",
        "print(\"Learning Rate: \", model_xgboost.best_estimator_.get_params()[\"learning_rate\"])\n",
        "print(\"Gamma: \", model_xgboost.best_estimator_.get_params()[\"gamma\"])\n",
        "print(\"Max Depth: \", model_xgboost.best_estimator_.get_params()[\"max_depth\"])\n",
        "print(\"Subsample: \", model_xgboost.best_estimator_.get_params()[\"subsample\"])\n",
        "print(\"Max Features at Split: \", model_xgboost.best_estimator_.get_params()[\"colsample_bytree\"])\n",
        "print(\"Alpha: \", model_xgboost.best_estimator_.get_params()[\"reg_alpha\"])\n",
        "print(\"Lamda: \", model_xgboost.best_estimator_.get_params()[\"reg_lambda\"])\n",
        "print(\"Minimum Sum of the Instance Weight Hessian to Make a Child: \",\n",
        "      model_xgboost.best_estimator_.get_params()[\"min_child_weight\"])\n",
        "print(\"Number of Trees: \", model_xgboost.best_estimator_.get_params()[\"n_estimators\"])"
      ],
      "execution_count": 0,
      "outputs": []
    }
  ]
}